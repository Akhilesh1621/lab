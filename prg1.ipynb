{
 "cells": [
  {
   "cell_type": "code",
   "execution_count": 1,
   "metadata": {},
   "outputs": [],
   "source": [
    "import random"
   ]
  },
  {
   "cell_type": "code",
   "execution_count": 2,
   "metadata": {},
   "outputs": [],
   "source": [
    "import csv"
   ]
  },
  {
   "cell_type": "code",
   "execution_count": 3,
   "metadata": {},
   "outputs": [],
   "source": [
    "attributes = [['Sunny','Rainy'],['Warm','Cold'],['Normal','High'],['Warm','Cool'],['Same','Chamge'],['Strong','Weak']]"
   ]
  },
  {
   "cell_type": "code",
   "execution_count": 4,
   "metadata": {},
   "outputs": [],
   "source": [
    "num_attributes = len(attributes)"
   ]
  },
  {
   "cell_type": "code",
   "execution_count": 5,
   "metadata": {},
   "outputs": [
    {
     "name": "stdout",
     "output_type": "stream",
     "text": [
      "\n",
      " the genrel hypothsis : ['?','?','?','?','?','?',]\n",
      "\n",
      " the spefic hypothsis : ['0','0','0','0','0','0',]\n"
     ]
    }
   ],
   "source": [
    "print(\"\\n the genrel hypothsis : ['?','?','?','?','?','?',]\")\n",
    "print(\"\\n the spefic hypothsis : ['0','0','0','0','0','0',]\")"
   ]
  },
  {
   "cell_type": "code",
   "execution_count": 6,
   "metadata": {},
   "outputs": [
    {
     "name": "stdout",
     "output_type": "stream",
     "text": [
      "\n",
      " training dataset\n"
     ]
    }
   ],
   "source": [
    "a=[]\n",
    "print(\"\\n training dataset\")"
   ]
  },
  {
   "cell_type": "code",
   "execution_count": 11,
   "metadata": {},
   "outputs": [
    {
     "name": "stdout",
     "output_type": "stream",
     "text": [
      "['Sunny', 'Warm', 'Normal', 'Strong', 'Warm', 'Same', 'Yes']\n",
      "['Sunny', 'Warm', 'High', 'Strong', 'Warm', 'Same', 'Yes']\n",
      "['Rainy', 'Cold', 'High', 'Strong', 'Warm', 'Change', 'No']\n",
      "['Sunny', 'Warm', 'High', 'Strong', 'Cool', 'Change', 'Yes']\n"
     ]
    }
   ],
   "source": [
    "with open('C:\\\\Users\\\\MSI\\\\Downloads\\\\Data_set_ML\\\\data1.csv','r') as csvFile:\n",
    "    reader = csv.reader(csvFile)\n",
    "    for row in reader:\n",
    "            a.append(row)\n",
    "            print(row)"
   ]
  },
  {
   "cell_type": "code",
   "execution_count": 13,
   "metadata": {},
   "outputs": [
    {
     "name": "stdout",
     "output_type": "stream",
     "text": [
      "inital hypothis\n",
      "[0, 0, 0, 0, 0, 0]\n"
     ]
    }
   ],
   "source": [
    "print(\"inital hypothis\")\n",
    "hypothsis = [0]* num_attributes\n",
    "print(hypothsis)"
   ]
  },
  {
   "cell_type": "code",
   "execution_count": 21,
   "metadata": {},
   "outputs": [],
   "source": [
    "for j in range (0,num_attributes):\n",
    "    hypothsis[j]= a[0][j]"
   ]
  },
  {
   "cell_type": "code",
   "execution_count": 24,
   "metadata": {},
   "outputs": [
    {
     "name": "stdout",
     "output_type": "stream",
     "text": [
      "\n",
      " training example 0: the hypothis ['Sunny', 'Warm', 'Normal', 'Strong', 'Warm', 'Same']\n",
      "\n",
      " training example 1: the hypothis ['Sunny', 'Warm', 'Normal', 'Strong', 'Warm', 'Same']\n",
      "\n",
      " training example 2: the hypothis ['Sunny', 'Warm', 'Normal', 'Strong', 'Warm', 'Same']\n",
      "\n",
      " training example 3: the hypothis ['Sunny', 'Warm', 'Normal', 'Strong', 'Warm', 'Same']\n"
     ]
    }
   ],
   "source": [
    "for i in range (0,len(a)):\n",
    "    if a[i][num_attributes]==\"yes\":\n",
    "        for j in range(0,num_attributes):\n",
    "            if hypothsis[i][j]!=hypothsis[j]:\n",
    "                hypothsis[j]='?'\n",
    "            else:\n",
    "                hypothsis[j]=a[i][j]\n",
    "    print(\"\\n training example {0}: the hypothis\".format(i),hypothsis)"
   ]
  },
  {
   "cell_type": "code",
   "execution_count": 25,
   "metadata": {},
   "outputs": [
    {
     "name": "stdout",
     "output_type": "stream",
     "text": [
      "maxilly hypothsis are\n",
      "['Sunny', 'Warm', 'Normal', 'Strong', 'Warm', 'Same']\n"
     ]
    }
   ],
   "source": [
    "print(\"maxilly hypothsis are\")\n",
    "print(hypothsis)"
   ]
  },
  {
   "cell_type": "code",
   "execution_count": null,
   "metadata": {},
   "outputs": [],
   "source": []
  }
 ],
 "metadata": {
  "kernelspec": {
   "display_name": "Python 3",
   "language": "python",
   "name": "python3"
  },
  "language_info": {
   "codemirror_mode": {
    "name": "ipython",
    "version": 3
   },
   "file_extension": ".py",
   "mimetype": "text/x-python",
   "name": "python",
   "nbconvert_exporter": "python",
   "pygments_lexer": "ipython3",
   "version": "3.7.6"
  }
 },
 "nbformat": 4,
 "nbformat_minor": 4
}
